{
 "cells": [
  {
   "cell_type": "markdown",
   "id": "93431504",
   "metadata": {},
   "source": [
    "Array of Objects\n",
    "---"
   ]
  },
  {
   "cell_type": "code",
   "execution_count": 2,
   "id": "7a3814c5",
   "metadata": {},
   "outputs": [],
   "source": [
    "from random import choice\n",
    "\n",
    "class Student:\n",
    "    def __init__(self, name, age, mark):\n",
    "        self.name = name\n",
    "        self.age = age\n",
    "        self.mark = mark\n",
    "\n",
    "students = []\n",
    "for i in range(1_000_000):\n",
    "    students.append(Student(f\"Name {i}\", 18, choice([2, 3, 4, 5, 6])))"
   ]
  },
  {
   "cell_type": "code",
   "execution_count": 5,
   "id": "ee605b98",
   "metadata": {},
   "outputs": [],
   "source": [
    "def avg_mark(students):\n",
    "    sum_marks = 0\n",
    "    for student in students:\n",
    "        sum_marks += student.mark\n",
    "    return sum_marks / len(students)"
   ]
  },
  {
   "cell_type": "code",
   "execution_count": 7,
   "id": "1f8f5ce6",
   "metadata": {},
   "outputs": [
    {
     "name": "stdout",
     "output_type": "stream",
     "text": [
      "73.3 ms ± 6.16 ms per loop (mean ± std. dev. of 7 runs, 10 loops each)\n"
     ]
    }
   ],
   "source": [
    "%%timeit\n",
    "avg_mark(students)"
   ]
  },
  {
   "cell_type": "markdown",
   "id": "192cfab0",
   "metadata": {},
   "source": [
    "Object of Arrays\n",
    "---"
   ]
  },
  {
   "cell_type": "code",
   "execution_count": 8,
   "id": "0eb5822f",
   "metadata": {},
   "outputs": [],
   "source": [
    "class Students:\n",
    "    def __init__(self):\n",
    "        self.names = []\n",
    "        self.ages = []\n",
    "        self.marks = []"
   ]
  },
  {
   "cell_type": "code",
   "execution_count": 9,
   "id": "17599c8f",
   "metadata": {},
   "outputs": [],
   "source": [
    "students = Students()\n",
    "for i in range(1_000_000):\n",
    "    students.names.append(f\"Name {i}\")\n",
    "    students.ages.append(18)\n",
    "    students.marks.append(choice([2, 3, 4, 5, 6]))"
   ]
  },
  {
   "cell_type": "code",
   "execution_count": 10,
   "id": "fad6c252",
   "metadata": {},
   "outputs": [],
   "source": [
    "def avg_mark(students):\n",
    "    sum_marks = 0\n",
    "    for mark in students.marks:\n",
    "        sum_marks += mark\n",
    "    return sum_marks / len(students.marks)"
   ]
  },
  {
   "cell_type": "code",
   "execution_count": 12,
   "id": "859c11e8",
   "metadata": {},
   "outputs": [
    {
     "name": "stdout",
     "output_type": "stream",
     "text": [
      "40.2 ms ± 2.01 ms per loop (mean ± std. dev. of 7 runs, 10 loops each)\n"
     ]
    }
   ],
   "source": [
    "%%timeit\n",
    "avg_mark(students)"
   ]
  },
  {
   "cell_type": "markdown",
   "id": "d54570aa",
   "metadata": {},
   "source": [
    "List Comprehension\n",
    "---"
   ]
  },
  {
   "cell_type": "code",
   "execution_count": 14,
   "id": "6badf78b",
   "metadata": {},
   "outputs": [
    {
     "name": "stdout",
     "output_type": "stream",
     "text": [
      "1.26 s ± 115 ms per loop (mean ± std. dev. of 7 runs, 1 loop each)\n"
     ]
    }
   ],
   "source": [
    "%%timeit\n",
    "students = []\n",
    "for i in range(1_000_000):\n",
    "    students.append(Student(f\"Name {i}\", 18, choice([2, 3, 4, 5, 6])))"
   ]
  },
  {
   "cell_type": "code",
   "execution_count": 15,
   "id": "56f27129",
   "metadata": {},
   "outputs": [
    {
     "name": "stdout",
     "output_type": "stream",
     "text": [
      "118 ms ± 977 µs per loop (mean ± std. dev. of 7 runs, 10 loops each)\n"
     ]
    }
   ],
   "source": [
    "%%timeit\n",
    "students = [\n",
    "    Student(f\"Name {i}\", 18, choice([2, 3, 4, 5, 6]))\n",
    "    for i in range(1_000_00)\n",
    "]"
   ]
  },
  {
   "cell_type": "code",
   "execution_count": 16,
   "id": "58d1075c",
   "metadata": {},
   "outputs": [],
   "source": [
    "a = b = 2"
   ]
  },
  {
   "cell_type": "code",
   "execution_count": 18,
   "id": "476bcc3a",
   "metadata": {},
   "outputs": [],
   "source": [
    "a = b = 1, 2"
   ]
  },
  {
   "cell_type": "code",
   "execution_count": 21,
   "id": "36dc61d7",
   "metadata": {},
   "outputs": [
    {
     "ename": "ValueError",
     "evalue": "too many values to unpack (expected 2)",
     "output_type": "error",
     "traceback": [
      "\u001b[0;31m---------------------------------------------------------------------------\u001b[0m",
      "\u001b[0;31mValueError\u001b[0m                                Traceback (most recent call last)",
      "\u001b[0;32m/tmp/ipykernel_5188/1202805113.py\u001b[0m in \u001b[0;36m<module>\u001b[0;34m\u001b[0m\n\u001b[0;32m----> 1\u001b[0;31m \u001b[0ma\u001b[0m\u001b[0;34m,\u001b[0m \u001b[0mb\u001b[0m \u001b[0;34m=\u001b[0m \u001b[0;36m1\u001b[0m\u001b[0;34m,\u001b[0m \u001b[0;36m2\u001b[0m\u001b[0;34m,\u001b[0m \u001b[0;36m3\u001b[0m\u001b[0;34m\u001b[0m\u001b[0;34m\u001b[0m\u001b[0m\n\u001b[0m",
      "\u001b[0;31mValueError\u001b[0m: too many values to unpack (expected 2)"
     ]
    }
   ],
   "source": [
    "a, b = 1, 2, 3"
   ]
  },
  {
   "cell_type": "code",
   "execution_count": null,
   "id": "65e41511",
   "metadata": {},
   "outputs": [],
   "source": []
  }
 ],
 "metadata": {
  "kernelspec": {
   "display_name": "Python 3 (ipykernel)",
   "language": "python",
   "name": "python3"
  },
  "language_info": {
   "codemirror_mode": {
    "name": "ipython",
    "version": 3
   },
   "file_extension": ".py",
   "mimetype": "text/x-python",
   "name": "python",
   "nbconvert_exporter": "python",
   "pygments_lexer": "ipython3",
   "version": "3.8.10"
  }
 },
 "nbformat": 4,
 "nbformat_minor": 5
}
