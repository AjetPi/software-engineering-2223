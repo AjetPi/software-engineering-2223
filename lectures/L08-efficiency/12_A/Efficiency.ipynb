{
 "cells": [
  {
   "cell_type": "code",
   "execution_count": 2,
   "id": "995824ec",
   "metadata": {},
   "outputs": [],
   "source": [
    "from random import choice"
   ]
  },
  {
   "cell_type": "markdown",
   "id": "4b186760",
   "metadata": {},
   "source": [
    "### Array of objects"
   ]
  },
  {
   "cell_type": "code",
   "execution_count": 3,
   "id": "01a68f5c",
   "metadata": {},
   "outputs": [],
   "source": [
    "class Student:\n",
    "    def __init__(self, name, age, grade):\n",
    "        self.name = name\n",
    "        self.age = age\n",
    "        self.grade = grade"
   ]
  },
  {
   "cell_type": "code",
   "execution_count": 7,
   "id": "fc8f9758",
   "metadata": {},
   "outputs": [],
   "source": [
    "students = []\n",
    "for i in range(1_000_000):\n",
    "    st = Student(f\"Person {i}\", 18, choice([2, 3, 4, 5, 6]))\n",
    "    students.append(st)"
   ]
  },
  {
   "cell_type": "code",
   "execution_count": 8,
   "id": "daa120ad",
   "metadata": {},
   "outputs": [],
   "source": [
    "def average_grade(students):\n",
    "    sum = 0.0\n",
    "    for st in students:\n",
    "        sum += st.grade\n",
    "    return sum / len(students)"
   ]
  },
  {
   "cell_type": "code",
   "execution_count": 10,
   "id": "cf361da7",
   "metadata": {},
   "outputs": [
    {
     "name": "stdout",
     "output_type": "stream",
     "text": [
      "70.6 ms ± 3.79 ms per loop (mean ± std. dev. of 7 runs, 10 loops each)\n"
     ]
    }
   ],
   "source": [
    "%%timeit\n",
    "average_grade(students)"
   ]
  },
  {
   "cell_type": "markdown",
   "id": "3e5437a7",
   "metadata": {},
   "source": [
    "### Object of arrays"
   ]
  },
  {
   "cell_type": "code",
   "execution_count": 11,
   "id": "1769a9e2",
   "metadata": {},
   "outputs": [],
   "source": [
    "class Students:\n",
    "    def __init__(self):\n",
    "        self.names = []\n",
    "        self.ages = []\n",
    "        self.grades = []"
   ]
  },
  {
   "cell_type": "code",
   "execution_count": 12,
   "id": "83b7c064",
   "metadata": {},
   "outputs": [],
   "source": [
    "students = Students()\n",
    "for i in range(1_000_000):\n",
    "    students.names.append(f\"Person {i}\")\n",
    "    students.ages.append(18)\n",
    "    students.grades.append(choice([2, 3, 4, 5, 6]))"
   ]
  },
  {
   "cell_type": "code",
   "execution_count": 15,
   "id": "eaf0529d",
   "metadata": {},
   "outputs": [],
   "source": [
    "def average_grade(students):\n",
    "    sum = 0.0\n",
    "    for mark in students.grades:\n",
    "        sum += mark\n",
    "    return sum / len(students.grades)"
   ]
  },
  {
   "cell_type": "code",
   "execution_count": 17,
   "id": "e2fbdc1e",
   "metadata": {},
   "outputs": [
    {
     "name": "stdout",
     "output_type": "stream",
     "text": [
      "40.7 ms ± 3.15 ms per loop (mean ± std. dev. of 7 runs, 10 loops each)\n"
     ]
    }
   ],
   "source": [
    "%%timeit\n",
    "average_grade(students)"
   ]
  },
  {
   "cell_type": "markdown",
   "id": "0a7fb44a",
   "metadata": {},
   "source": [
    "---"
   ]
  },
  {
   "cell_type": "code",
   "execution_count": 4,
   "id": "1295793c",
   "metadata": {},
   "outputs": [],
   "source": [
    "students = [Student(f\"Person {i}\", 18, choice([2, 3, 4, 5, 6]))\n",
    "           for i in range(1_000_000)]"
   ]
  },
  {
   "cell_type": "code",
   "execution_count": 14,
   "id": "36946f69",
   "metadata": {},
   "outputs": [],
   "source": [
    "def cond(i):\n",
    "    return ((i**2) // (i - 5)) % 300000 == 0"
   ]
  },
  {
   "cell_type": "code",
   "execution_count": 15,
   "id": "92d34b1b",
   "metadata": {},
   "outputs": [
    {
     "data": {
      "text/plain": [
       "[299995, 599995, 899995]"
      ]
     },
     "execution_count": 15,
     "metadata": {},
     "output_type": "execute_result"
    }
   ],
   "source": [
    "[i for i in range(10, 1000000) if cond(i)]"
   ]
  },
  {
   "cell_type": "code",
   "execution_count": null,
   "id": "cf52b913",
   "metadata": {},
   "outputs": [],
   "source": []
  }
 ],
 "metadata": {
  "kernelspec": {
   "display_name": "Python 3 (ipykernel)",
   "language": "python",
   "name": "python3"
  },
  "language_info": {
   "codemirror_mode": {
    "name": "ipython",
    "version": 3
   },
   "file_extension": ".py",
   "mimetype": "text/x-python",
   "name": "python",
   "nbconvert_exporter": "python",
   "pygments_lexer": "ipython3",
   "version": "3.8.10"
  }
 },
 "nbformat": 4,
 "nbformat_minor": 5
}
