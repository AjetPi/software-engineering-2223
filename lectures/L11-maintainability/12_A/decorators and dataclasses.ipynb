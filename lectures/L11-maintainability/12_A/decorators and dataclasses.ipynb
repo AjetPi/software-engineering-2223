{
 "cells": [
  {
   "cell_type": "code",
   "execution_count": 20,
   "id": "130b71b0",
   "metadata": {},
   "outputs": [],
   "source": [
    "import time\n",
    "\n",
    "def decorator(fn):\n",
    "    def wrapper(a, b):\n",
    "        start = time.time()\n",
    "        res = fn(a, b)\n",
    "        end = time.time()\n",
    "        print(f\"{fn.__name__} took {end-start:.2f}s\")\n",
    "        return res\n",
    "    return wrapper"
   ]
  },
  {
   "cell_type": "code",
   "execution_count": 21,
   "id": "9232ef18",
   "metadata": {},
   "outputs": [],
   "source": [
    "@decorator\n",
    "def fun(a, b):\n",
    "    time.sleep(1)\n",
    "    return a+b"
   ]
  },
  {
   "cell_type": "code",
   "execution_count": 22,
   "id": "1dd412e8",
   "metadata": {},
   "outputs": [],
   "source": [
    "@decorator\n",
    "def fast_fun(a, b):\n",
    "    return a+b"
   ]
  },
  {
   "cell_type": "markdown",
   "id": "692bb143",
   "metadata": {},
   "source": [
    "=="
   ]
  },
  {
   "cell_type": "code",
   "execution_count": 12,
   "id": "fc36d25b",
   "metadata": {},
   "outputs": [],
   "source": [
    "def fun(a, b):\n",
    "    time.sleep(1)\n",
    "    return a + b\n",
    "fun = decorator(fun)"
   ]
  },
  {
   "cell_type": "code",
   "execution_count": 25,
   "id": "0ea8bea2",
   "metadata": {},
   "outputs": [],
   "source": [
    "def always_return(res):\n",
    "    def decorator(fn):\n",
    "        def wrapper(a, b):\n",
    "            return res\n",
    "        return wrapper\n",
    "    return decorator"
   ]
  },
  {
   "cell_type": "code",
   "execution_count": 27,
   "id": "2cf3543a",
   "metadata": {},
   "outputs": [],
   "source": [
    "@always_return(res=5)\n",
    "def fast_fun(a, b):\n",
    "    return a+b"
   ]
  },
  {
   "cell_type": "markdown",
   "id": "1d42f934",
   "metadata": {},
   "source": [
    "=="
   ]
  },
  {
   "cell_type": "code",
   "execution_count": 31,
   "id": "e1ed1346",
   "metadata": {},
   "outputs": [],
   "source": [
    "def fast_fun(a, b):\n",
    "    return a+b\n",
    "fast_fun = always_return(res=5)(fast_fun)"
   ]
  },
  {
   "cell_type": "code",
   "execution_count": 32,
   "id": "37af949a",
   "metadata": {},
   "outputs": [
    {
     "data": {
      "text/plain": [
       "<function __main__.decorator(fn)>"
      ]
     },
     "execution_count": 32,
     "metadata": {},
     "output_type": "execute_result"
    }
   ],
   "source": [
    "decorator"
   ]
  },
  {
   "cell_type": "code",
   "execution_count": 33,
   "id": "7e525989",
   "metadata": {},
   "outputs": [
    {
     "data": {
      "text/plain": [
       "<function __main__.always_return.<locals>.decorator(fn)>"
      ]
     },
     "execution_count": 33,
     "metadata": {},
     "output_type": "execute_result"
    }
   ],
   "source": [
    "always_return(res=5)"
   ]
  },
  {
   "cell_type": "code",
   "execution_count": 34,
   "id": "6949a440",
   "metadata": {},
   "outputs": [
    {
     "data": {
      "text/plain": [
       "<function __main__.always_return.<locals>.decorator.<locals>.wrapper(a, b)>"
      ]
     },
     "execution_count": 34,
     "metadata": {},
     "output_type": "execute_result"
    }
   ],
   "source": [
    "always_return(res=5)(fast_fun)"
   ]
  },
  {
   "cell_type": "code",
   "execution_count": null,
   "id": "e3f3d164",
   "metadata": {},
   "outputs": [],
   "source": [
    "fast_fun = always_return(res=5)(fast_fun)"
   ]
  },
  {
   "cell_type": "code",
   "execution_count": 23,
   "id": "950ef818",
   "metadata": {},
   "outputs": [
    {
     "name": "stdout",
     "output_type": "stream",
     "text": [
      "fast_fun took 0.00s\n"
     ]
    },
    {
     "data": {
      "text/plain": [
       "2"
      ]
     },
     "execution_count": 23,
     "metadata": {},
     "output_type": "execute_result"
    }
   ],
   "source": [
    "fast_fun(1, 1)"
   ]
  },
  {
   "cell_type": "code",
   "execution_count": 24,
   "id": "e956d965",
   "metadata": {},
   "outputs": [
    {
     "name": "stdout",
     "output_type": "stream",
     "text": [
      "fun took 1.00s\n"
     ]
    },
    {
     "data": {
      "text/plain": [
       "2"
      ]
     },
     "execution_count": 24,
     "metadata": {},
     "output_type": "execute_result"
    }
   ],
   "source": [
    "fun(1, 1)"
   ]
  },
  {
   "cell_type": "code",
   "execution_count": 13,
   "id": "a20cf854",
   "metadata": {},
   "outputs": [
    {
     "data": {
      "text/plain": [
       "2"
      ]
     },
     "execution_count": 13,
     "metadata": {},
     "output_type": "execute_result"
    }
   ],
   "source": [
    "fun(1, 1)"
   ]
  },
  {
   "cell_type": "markdown",
   "id": "4c1538a8",
   "metadata": {},
   "source": [
    "### Dataclasses\n",
    "---"
   ]
  },
  {
   "cell_type": "code",
   "execution_count": 35,
   "id": "ee9e81e1",
   "metadata": {},
   "outputs": [
    {
     "name": "stdout",
     "output_type": "stream",
     "text": [
      "<__main__.Circle object at 0x7fbe59a5b6d0>\n"
     ]
    }
   ],
   "source": [
    "class Circle:\n",
    "    def __init__(self, x, y, r):\n",
    "        self.x = x\n",
    "        self.y = y\n",
    "        self.r = r\n",
    "circle = Circle(1, 2, 3)\n",
    "print(circle)"
   ]
  },
  {
   "cell_type": "code",
   "execution_count": 37,
   "id": "139a0de6",
   "metadata": {},
   "outputs": [
    {
     "name": "stdout",
     "output_type": "stream",
     "text": [
      "circle(x=1, y=2, r=3)\n"
     ]
    }
   ],
   "source": [
    "class Circle:\n",
    "    def __init__(self, x, y, r):\n",
    "        self.x = x\n",
    "        self.y = y\n",
    "        self.r = r\n",
    "        \n",
    "    def __str__(self):\n",
    "        return f\"circle(x={self.x}, y={self.y}, r={self.r})\"\n",
    "        \n",
    "circle = Circle(1, 2, 3)\n",
    "print(circle)"
   ]
  },
  {
   "cell_type": "code",
   "execution_count": 44,
   "id": "c11c4b4e",
   "metadata": {},
   "outputs": [
    {
     "name": "stdout",
     "output_type": "stream",
     "text": [
      "Circle(x=1, y=2, r=3, z=1.5)\n"
     ]
    }
   ],
   "source": [
    "from dataclasses import dataclass\n",
    "from math import sqrt\n",
    "\n",
    "@dataclass(frozen=True)\n",
    "class Circle:\n",
    "    x: float\n",
    "    y: float\n",
    "    r: float\n",
    "    z: float = 0\n",
    "        \n",
    "    def distance(self, c2: Circle) -> float:\n",
    "        return sqrt((self.x - c2.x) ** 2 + (self.y - c2.y) ** 2)\n",
    "\n",
    "circle = Circle(1, 2, 3, 1.5)\n",
    "print(circle)"
   ]
  },
  {
   "cell_type": "code",
   "execution_count": 45,
   "id": "54461cc9",
   "metadata": {},
   "outputs": [
    {
     "data": {
      "text/plain": [
       "1.0"
      ]
     },
     "execution_count": 45,
     "metadata": {},
     "output_type": "execute_result"
    }
   ],
   "source": [
    "circle.distance(Circle(1, 3, 2))"
   ]
  },
  {
   "cell_type": "code",
   "execution_count": 43,
   "id": "63f8f167",
   "metadata": {},
   "outputs": [
    {
     "ename": "FrozenInstanceError",
     "evalue": "cannot assign to field 'x'",
     "output_type": "error",
     "traceback": [
      "\u001b[0;31m---------------------------------------------------------------------------\u001b[0m",
      "\u001b[0;31mFrozenInstanceError\u001b[0m                       Traceback (most recent call last)",
      "\u001b[0;32m/tmp/ipykernel_300302/564957738.py\u001b[0m in \u001b[0;36m<module>\u001b[0;34m\u001b[0m\n\u001b[0;32m----> 1\u001b[0;31m \u001b[0mcircle\u001b[0m\u001b[0;34m.\u001b[0m\u001b[0mx\u001b[0m \u001b[0;34m=\u001b[0m \u001b[0;36m5\u001b[0m\u001b[0;34m\u001b[0m\u001b[0;34m\u001b[0m\u001b[0m\n\u001b[0m",
      "\u001b[0;32m<string>\u001b[0m in \u001b[0;36m__setattr__\u001b[0;34m(self, name, value)\u001b[0m\n",
      "\u001b[0;31mFrozenInstanceError\u001b[0m: cannot assign to field 'x'"
     ]
    }
   ],
   "source": [
    "circle.x = 5"
   ]
  },
  {
   "cell_type": "code",
   "execution_count": null,
   "id": "195f58b2",
   "metadata": {},
   "outputs": [],
   "source": []
  }
 ],
 "metadata": {
  "kernelspec": {
   "display_name": "Python 3 (ipykernel)",
   "language": "python",
   "name": "python3"
  },
  "language_info": {
   "codemirror_mode": {
    "name": "ipython",
    "version": 3
   },
   "file_extension": ".py",
   "mimetype": "text/x-python",
   "name": "python",
   "nbconvert_exporter": "python",
   "pygments_lexer": "ipython3",
   "version": "3.8.10"
  }
 },
 "nbformat": 4,
 "nbformat_minor": 5
}
