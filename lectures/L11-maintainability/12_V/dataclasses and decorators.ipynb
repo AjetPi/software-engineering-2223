{
 "cells": [
  {
   "cell_type": "code",
   "execution_count": 2,
   "id": "9b9747f9",
   "metadata": {},
   "outputs": [
    {
     "name": "stdout",
     "output_type": "stream",
     "text": [
      "Circle(x=1 y=2 r=3)\n"
     ]
    }
   ],
   "source": [
    "class Circle:\n",
    "    def __init__(self, x, y, r):\n",
    "        self.x = x\n",
    "        self.y = y\n",
    "        self.r = r\n",
    "        \n",
    "    def __str__(self):\n",
    "        return f\"Circle(x={self.x} y={self.y} r={self.r})\"\n",
    "        \n",
    "circle = Circle(1, 2, 3)\n",
    "print(circle)"
   ]
  },
  {
   "cell_type": "code",
   "execution_count": 8,
   "id": "fe4f79b1",
   "metadata": {},
   "outputs": [
    {
     "name": "stdout",
     "output_type": "stream",
     "text": [
      "Circle(x=1, y=2, r=3, z=0)\n",
      "Circle(x=5, y=2, r=3, z=1.5)\n"
     ]
    }
   ],
   "source": [
    "from dataclasses import dataclass\n",
    "\n",
    "@dataclass\n",
    "class Circle:\n",
    "    x: float\n",
    "    y: float\n",
    "    r: float\n",
    "    z: float = 0\n",
    "        \n",
    "circle = Circle(1, 2, 3)\n",
    "print(circle)\n",
    "c2 = Circle(1, 2, 3, z=1.5)\n",
    "c2.x = 5\n",
    "print(c2)"
   ]
  },
  {
   "cell_type": "code",
   "execution_count": 7,
   "id": "d32e9fb1",
   "metadata": {},
   "outputs": [
    {
     "ename": "FrozenInstanceError",
     "evalue": "cannot assign to field 'x'",
     "output_type": "error",
     "traceback": [
      "\u001b[0;31m---------------------------------------------------------------------------\u001b[0m",
      "\u001b[0;31mFrozenInstanceError\u001b[0m                       Traceback (most recent call last)",
      "\u001b[0;32m/tmp/ipykernel_306998/1085897435.py\u001b[0m in \u001b[0;36m<module>\u001b[0;34m\u001b[0m\n\u001b[1;32m      9\u001b[0m \u001b[0;34m\u001b[0m\u001b[0m\n\u001b[1;32m     10\u001b[0m \u001b[0mcircle\u001b[0m \u001b[0;34m=\u001b[0m \u001b[0mCircle\u001b[0m\u001b[0;34m(\u001b[0m\u001b[0;36m1\u001b[0m\u001b[0;34m,\u001b[0m \u001b[0;36m2\u001b[0m\u001b[0;34m,\u001b[0m \u001b[0;36m3\u001b[0m\u001b[0;34m)\u001b[0m\u001b[0;34m\u001b[0m\u001b[0;34m\u001b[0m\u001b[0m\n\u001b[0;32m---> 11\u001b[0;31m \u001b[0mcircle\u001b[0m\u001b[0;34m.\u001b[0m\u001b[0mx\u001b[0m \u001b[0;34m=\u001b[0m \u001b[0;36m5\u001b[0m\u001b[0;34m\u001b[0m\u001b[0;34m\u001b[0m\u001b[0m\n\u001b[0m\u001b[1;32m     12\u001b[0m \u001b[0mprint\u001b[0m\u001b[0;34m(\u001b[0m\u001b[0mcircle\u001b[0m\u001b[0;34m)\u001b[0m\u001b[0;34m\u001b[0m\u001b[0;34m\u001b[0m\u001b[0m\n",
      "\u001b[0;32m<string>\u001b[0m in \u001b[0;36m__setattr__\u001b[0;34m(self, name, value)\u001b[0m\n",
      "\u001b[0;31mFrozenInstanceError\u001b[0m: cannot assign to field 'x'"
     ]
    }
   ],
   "source": [
    "from dataclasses import dataclass\n",
    "\n",
    "@dataclass(frozen=True)\n",
    "class Circle:\n",
    "    x: float\n",
    "    y: float\n",
    "    r: float\n",
    "    z: float = 0\n",
    "        \n",
    "circle = Circle(1, 2, 3)\n",
    "circle.x = 5\n",
    "print(circle)"
   ]
  },
  {
   "cell_type": "code",
   "execution_count": 10,
   "id": "9d82aca8",
   "metadata": {},
   "outputs": [
    {
     "name": "stdout",
     "output_type": "stream",
     "text": [
      "1.0\n"
     ]
    }
   ],
   "source": [
    "from dataclasses import dataclass\n",
    "\n",
    "@dataclass(frozen=True)\n",
    "class Circle:\n",
    "    x: float\n",
    "    y: float\n",
    "    r: float\n",
    "    z: float = 0\n",
    "        \n",
    "    def distance(self, c2: Circle) -> float:\n",
    "        return (\n",
    "            (self.x - c2.x) ** 2 + (self.y - c2.y) ** 2 +\n",
    "            (self.z - c2.z) ** 2\n",
    "        ) ** 0.5\n",
    "        \n",
    "c1 = Circle(1, 2, 3)\n",
    "c2 = Circle(1, 2, 3, z=1)\n",
    "print(c1.distance(c2))"
   ]
  },
  {
   "cell_type": "markdown",
   "id": "c94e4b3c",
   "metadata": {},
   "source": [
    "Decorators\n",
    "---"
   ]
  },
  {
   "cell_type": "code",
   "execution_count": null,
   "id": "624a015a",
   "metadata": {},
   "outputs": [],
   "source": [
    "@decorator\n",
    "def fun(a, b):\n",
    "    return a - b\n",
    "===\n",
    "def fun(a, b):\n",
    "    return a - b\n",
    "fun = decorator(fun)"
   ]
  },
  {
   "cell_type": "code",
   "execution_count": 11,
   "id": "cf9df3ef",
   "metadata": {},
   "outputs": [
    {
     "name": "stdout",
     "output_type": "stream",
     "text": [
      "1\n"
     ]
    }
   ],
   "source": [
    "def identity_decorator(fn):\n",
    "    return fn\n",
    "\n",
    "@identity_decorator\n",
    "def fun(a, b):\n",
    "    return a - b\n",
    "\n",
    "print(fun(2, 1))"
   ]
  },
  {
   "cell_type": "code",
   "execution_count": 14,
   "id": "95c1bd81",
   "metadata": {},
   "outputs": [
    {
     "name": "stdout",
     "output_type": "stream",
     "text": [
      "5\n"
     ]
    }
   ],
   "source": [
    "def identity_decorator(fn):\n",
    "    return 5\n",
    "\n",
    "@identity_decorator\n",
    "def fun(a, b):\n",
    "    return a - b\n",
    "\n",
    "print(fun)"
   ]
  },
  {
   "cell_type": "code",
   "execution_count": 15,
   "id": "9d7ee18c",
   "metadata": {},
   "outputs": [
    {
     "name": "stdout",
     "output_type": "stream",
     "text": [
      "-1\n"
     ]
    }
   ],
   "source": [
    "def swap_args(fn):\n",
    "    def wrapper(a, b):\n",
    "        return fn(b, a)\n",
    "    return wrapper\n",
    "\n",
    "@swap_args\n",
    "def fun(a, b):\n",
    "    return a - b\n",
    "\n",
    "print(fun(2, 1))"
   ]
  },
  {
   "cell_type": "code",
   "execution_count": 16,
   "id": "a462e199",
   "metadata": {},
   "outputs": [
    {
     "name": "stdout",
     "output_type": "stream",
     "text": [
      "<function swap_args at 0x7f526c2a4700>\n"
     ]
    }
   ],
   "source": [
    "print(swap_args)"
   ]
  },
  {
   "cell_type": "code",
   "execution_count": 17,
   "id": "c3fed1b5",
   "metadata": {},
   "outputs": [
    {
     "name": "stdout",
     "output_type": "stream",
     "text": [
      "<function swap_args.<locals>.wrapper at 0x7f526c32e0d0>\n"
     ]
    }
   ],
   "source": [
    "print(swap_args(fun))"
   ]
  },
  {
   "cell_type": "code",
   "execution_count": 18,
   "id": "8e6220ee",
   "metadata": {},
   "outputs": [
    {
     "name": "stdout",
     "output_type": "stream",
     "text": [
      "1\n"
     ]
    }
   ],
   "source": [
    "def swap_args(fn):\n",
    "    def wrapper(a, b):\n",
    "        return fn(b, a)\n",
    "    return wrapper\n",
    "\n",
    "@swap_args\n",
    "@swap_args\n",
    "def fun(a, b):\n",
    "    return a - b\n",
    "\n",
    "print(fun(2, 1))"
   ]
  },
  {
   "cell_type": "code",
   "execution_count": 19,
   "id": "13e65fbf",
   "metadata": {},
   "outputs": [
    {
     "data": {
      "text/plain": [
       "<function __main__.swap_args.<locals>.wrapper(a, b)>"
      ]
     },
     "execution_count": 19,
     "metadata": {},
     "output_type": "execute_result"
    }
   ],
   "source": [
    "# ===\n",
    "fun = swap_args(swap_args(fun))"
   ]
  },
  {
   "cell_type": "code",
   "execution_count": 24,
   "id": "dd293c01",
   "metadata": {},
   "outputs": [
    {
     "name": "stdout",
     "output_type": "stream",
     "text": [
      "wrapper took 0.50s\n",
      "-1\n"
     ]
    }
   ],
   "source": [
    "import time\n",
    "\n",
    "def timeit(fn):\n",
    "    def wrapper(a, b):\n",
    "        start = time.time()\n",
    "        res = fn(a, b)\n",
    "        end = time.time()\n",
    "        print(f\"{fn.__name__} took {end-start:.2f}s\")\n",
    "        return res\n",
    "    return wrapper\n",
    "\n",
    "@timeit\n",
    "@swap_args\n",
    "def fun(a, b):\n",
    "    time.sleep(0.5)\n",
    "    return a - b\n",
    "\n",
    "print(fun(2, 1))"
   ]
  },
  {
   "cell_type": "code",
   "execution_count": null,
   "id": "f5e32ae1",
   "metadata": {},
   "outputs": [],
   "source": [
    "@decorator(arg)\n",
    "def fun():\n",
    "    pass\n",
    "===\n",
    "def fun():\n",
    "    pass\n",
    "fun = decorator(arg)(fun)"
   ]
  },
  {
   "cell_type": "code",
   "execution_count": 28,
   "id": "d9362101",
   "metadata": {},
   "outputs": [
    {
     "name": "stdout",
     "output_type": "stream",
     "text": [
      "5\n",
      "5\n"
     ]
    }
   ],
   "source": [
    "def always_return(res):\n",
    "    def decorator(fn):\n",
    "        def wrapper(a, b):\n",
    "            return res\n",
    "        return wrapper\n",
    "    return decorator\n",
    "\n",
    "@always_return(5)\n",
    "def fun(a, b):\n",
    "    return a - b\n",
    "\n",
    "print(fun(2, 1))\n",
    "print(fun(1, 2))"
   ]
  },
  {
   "cell_type": "code",
   "execution_count": null,
   "id": "8af009d5",
   "metadata": {},
   "outputs": [],
   "source": []
  }
 ],
 "metadata": {
  "kernelspec": {
   "display_name": "Python 3 (ipykernel)",
   "language": "python",
   "name": "python3"
  },
  "language_info": {
   "codemirror_mode": {
    "name": "ipython",
    "version": 3
   },
   "file_extension": ".py",
   "mimetype": "text/x-python",
   "name": "python",
   "nbconvert_exporter": "python",
   "pygments_lexer": "ipython3",
   "version": "3.8.10"
  }
 },
 "nbformat": 4,
 "nbformat_minor": 5
}
