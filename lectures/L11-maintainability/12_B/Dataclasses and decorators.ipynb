{
 "cells": [
  {
   "cell_type": "code",
   "execution_count": 5,
   "id": "f594cc81",
   "metadata": {},
   "outputs": [
    {
     "name": "stdout",
     "output_type": "stream",
     "text": [
      "circle(x=1 y=2 r=3)\n"
     ]
    }
   ],
   "source": [
    "class Circle:\n",
    "    def __init__(self, x, y, r):\n",
    "        self.x = x\n",
    "        self.y = y\n",
    "        self.r = r\n",
    "        \n",
    "    def __str__(self):\n",
    "        return f\"circle(x={self.x} y={self.y} r={self.r})\"\n",
    "    \n",
    "    def __eq__(self, c2: Circle):\n",
    "        return self.x == c2.x and self.y == c2.y and self.r == c2.r\n",
    "\n",
    "circle1 = Circle(1, 2, 3)\n",
    "circle2 = Circle(1, 2, 3)\n",
    "print(circle)"
   ]
  },
  {
   "cell_type": "code",
   "execution_count": 6,
   "id": "40cf6d2d",
   "metadata": {},
   "outputs": [
    {
     "data": {
      "text/plain": [
       "True"
      ]
     },
     "execution_count": 6,
     "metadata": {},
     "output_type": "execute_result"
    }
   ],
   "source": [
    "circle1 == circle2"
   ]
  },
  {
   "cell_type": "code",
   "execution_count": 7,
   "id": "afe35393",
   "metadata": {},
   "outputs": [],
   "source": [
    "from dataclasses import dataclass"
   ]
  },
  {
   "cell_type": "code",
   "execution_count": 19,
   "id": "ed201363",
   "metadata": {},
   "outputs": [
    {
     "name": "stdout",
     "output_type": "stream",
     "text": [
      "Circle(x=1, y=2, r=3, z=1.4)\n",
      "Circle(x=5, y=2, r=3, z=1.4)\n"
     ]
    }
   ],
   "source": [
    "@dataclass\n",
    "class Circle:\n",
    "    x: float\n",
    "    y: float\n",
    "    r: float\n",
    "    z: float = 0.0\n",
    "        \n",
    "circle = Circle(1, 2, 3, z=1.4)\n",
    "print(circle)\n",
    "circle.x = 5\n",
    "print(circle)"
   ]
  },
  {
   "cell_type": "code",
   "execution_count": 17,
   "id": "4c4388eb",
   "metadata": {},
   "outputs": [
    {
     "ename": "FrozenInstanceError",
     "evalue": "cannot assign to field 'x'",
     "output_type": "error",
     "traceback": [
      "\u001b[0;31m---------------------------------------------------------------------------\u001b[0m",
      "\u001b[0;31mFrozenInstanceError\u001b[0m                       Traceback (most recent call last)",
      "\u001b[0;32m/tmp/ipykernel_304561/1507964661.py\u001b[0m in \u001b[0;36m<module>\u001b[0;34m\u001b[0m\n\u001b[1;32m      7\u001b[0m \u001b[0;34m\u001b[0m\u001b[0m\n\u001b[1;32m      8\u001b[0m \u001b[0mcircle\u001b[0m \u001b[0;34m=\u001b[0m \u001b[0mCircle\u001b[0m\u001b[0;34m(\u001b[0m\u001b[0;36m1\u001b[0m\u001b[0;34m,\u001b[0m \u001b[0;36m2\u001b[0m\u001b[0;34m,\u001b[0m \u001b[0;36m3\u001b[0m\u001b[0;34m,\u001b[0m \u001b[0mz\u001b[0m\u001b[0;34m=\u001b[0m\u001b[0;36m1.4\u001b[0m\u001b[0;34m)\u001b[0m\u001b[0;34m\u001b[0m\u001b[0;34m\u001b[0m\u001b[0m\n\u001b[0;32m----> 9\u001b[0;31m \u001b[0mcircle\u001b[0m\u001b[0;34m.\u001b[0m\u001b[0mx\u001b[0m \u001b[0;34m=\u001b[0m \u001b[0;36m0\u001b[0m\u001b[0;34m\u001b[0m\u001b[0;34m\u001b[0m\u001b[0m\n\u001b[0m",
      "\u001b[0;32m<string>\u001b[0m in \u001b[0;36m__setattr__\u001b[0;34m(self, name, value)\u001b[0m\n",
      "\u001b[0;31mFrozenInstanceError\u001b[0m: cannot assign to field 'x'"
     ]
    }
   ],
   "source": [
    "@dataclass(frozen=True)\n",
    "class Circle:\n",
    "    x: float\n",
    "    y: float\n",
    "    r: float\n",
    "    z: float = 0.0\n",
    "        \n",
    "circle = Circle(1, 2, 3, z=1.4)\n",
    "circle.x = 0"
   ]
  },
  {
   "cell_type": "code",
   "execution_count": 20,
   "id": "b6461e18",
   "metadata": {},
   "outputs": [
    {
     "name": "stdout",
     "output_type": "stream",
     "text": [
      "1.0\n"
     ]
    }
   ],
   "source": [
    "from math import sqrt\n",
    "\n",
    "@dataclass(frozen=True)\n",
    "class Circle:\n",
    "    x: float\n",
    "    y: float\n",
    "    r: float\n",
    "    z: float = 0.0\n",
    "        \n",
    "    def distance(self, c2: Circle) -> float:\n",
    "        return sqrt(\n",
    "            (self.x - c2.x) ** 2 + (self.y - c2.y) **2 +\n",
    "            (self.z - c2.z) ** 2\n",
    "        )\n",
    "        \n",
    "circle = Circle(1, 2, 3, z=1.4)\n",
    "c2 = Circle(1, 3, 3, z=1.4)\n",
    "print(circle.distance(c2))"
   ]
  },
  {
   "cell_type": "markdown",
   "id": "71532daf",
   "metadata": {},
   "source": [
    "Decorators\n",
    "---"
   ]
  },
  {
   "cell_type": "code",
   "execution_count": null,
   "id": "420cac95",
   "metadata": {},
   "outputs": [],
   "source": [
    "@decorator\n",
    "def fun(a, b):\n",
    "    return a - b"
   ]
  },
  {
   "cell_type": "markdown",
   "id": "21b61221",
   "metadata": {},
   "source": [
    "=="
   ]
  },
  {
   "cell_type": "code",
   "execution_count": null,
   "id": "75049b22",
   "metadata": {},
   "outputs": [],
   "source": [
    "def fun(a, b):\n",
    "    return a - b\n",
    "fun = decorator(fun)"
   ]
  },
  {
   "cell_type": "code",
   "execution_count": 23,
   "id": "5d5ce978",
   "metadata": {},
   "outputs": [
    {
     "name": "stdout",
     "output_type": "stream",
     "text": [
      "1\n"
     ]
    }
   ],
   "source": [
    "def identity_decorator(fn):\n",
    "    return fn\n",
    "\n",
    "@identity_decorator\n",
    "def fun(a, b):\n",
    "    return a - b\n",
    "\n",
    "print(fun(2, 1))"
   ]
  },
  {
   "cell_type": "code",
   "execution_count": 26,
   "id": "bf6b39ac",
   "metadata": {},
   "outputs": [
    {
     "name": "stdout",
     "output_type": "stream",
     "text": [
      "1\n"
     ]
    }
   ],
   "source": [
    "def identity_decorator(fn):\n",
    "    return fn\n",
    "\n",
    "@identity_decorator\n",
    "def fun(a, b):\n",
    "    return a - b\n",
    "\n",
    "print(fun(2, 1))"
   ]
  },
  {
   "cell_type": "code",
   "execution_count": 27,
   "id": "04a8735f",
   "metadata": {},
   "outputs": [
    {
     "name": "stdout",
     "output_type": "stream",
     "text": [
      "5\n"
     ]
    }
   ],
   "source": [
    "def const_decorator(fn):\n",
    "    return 5\n",
    "\n",
    "@const_decorator\n",
    "def fun(a, b):\n",
    "    return a - b\n",
    "\n",
    "print(fun)"
   ]
  },
  {
   "cell_type": "code",
   "execution_count": 28,
   "id": "c8d8f4d3",
   "metadata": {},
   "outputs": [
    {
     "name": "stdout",
     "output_type": "stream",
     "text": [
      "-1\n"
     ]
    }
   ],
   "source": [
    "def swap_ab(fn):\n",
    "    def wrapper(a, b):\n",
    "        return fn(b, a)\n",
    "    return wrapper\n",
    "\n",
    "@swap_ab\n",
    "def fun(a, b):\n",
    "    return a - b\n",
    "\n",
    "print(fun(2, 1))"
   ]
  },
  {
   "cell_type": "code",
   "execution_count": 32,
   "id": "e06ac50d",
   "metadata": {},
   "outputs": [
    {
     "name": "stdout",
     "output_type": "stream",
     "text": [
      "slow_fun took 0.50s\n",
      "fast_fun took 0.00s\n"
     ]
    },
    {
     "data": {
      "text/plain": [
       "1"
      ]
     },
     "execution_count": 32,
     "metadata": {},
     "output_type": "execute_result"
    }
   ],
   "source": [
    "import time\n",
    "\n",
    "def timeit(fn):\n",
    "    def wrapper(a, b):\n",
    "        start = time.time()\n",
    "        res = fn(a, b)\n",
    "        end = time.time()\n",
    "        print(f\"{fn.__name__} took {end-start:.2f}s\")\n",
    "        return res\n",
    "    return wrapper\n",
    "\n",
    "@timeit\n",
    "def slow_fun(a, b):\n",
    "    time.sleep(0.5)\n",
    "    return a - b\n",
    "\n",
    "@timeit\n",
    "def fast_fun(a, b):\n",
    "    return a - b\n",
    "\n",
    "slow_fun(2, 1)\n",
    "fast_fun(2, 1)"
   ]
  },
  {
   "cell_type": "code",
   "execution_count": 31,
   "id": "0f33b5e2",
   "metadata": {},
   "outputs": [
    {
     "data": {
      "text/plain": [
       "<function __main__.timeit.<locals>.wrapper(a, b)>"
      ]
     },
     "execution_count": 31,
     "metadata": {},
     "output_type": "execute_result"
    }
   ],
   "source": [
    "slow_fun"
   ]
  },
  {
   "cell_type": "code",
   "execution_count": null,
   "id": "c509407c",
   "metadata": {},
   "outputs": [],
   "source": [
    "@decorator(arg=something)\n",
    "def fun(a, b):\n",
    "    return a + b\n",
    "===\n",
    "def fun(a, b):\n",
    "    return a + b\n",
    "fun = decorator(arg=something)(fun)"
   ]
  },
  {
   "cell_type": "code",
   "execution_count": 43,
   "id": "e1f38e92",
   "metadata": {},
   "outputs": [
    {
     "name": "stdout",
     "output_type": "stream",
     "text": [
      "5\n",
      "5\n"
     ]
    }
   ],
   "source": [
    "def always_return(res):\n",
    "    def decorator(fn):\n",
    "        def wrapper(a, b):\n",
    "            return res\n",
    "        return wrapper\n",
    "    return decorator\n",
    "\n",
    "@always_return(5)\n",
    "def fun(a, b):\n",
    "    return a + b\n",
    "print(fun(2, 1))\n",
    "print(fun(10, 20))"
   ]
  },
  {
   "cell_type": "code",
   "execution_count": 45,
   "id": "673dee4b",
   "metadata": {},
   "outputs": [
    {
     "name": "stdout",
     "output_type": "stream",
     "text": [
      "<function always_return at 0x7f734d32a820>\n",
      "<function always_return.<locals>.decorator at 0x7f734db6c280>\n",
      "<function always_return.<locals>.decorator.<locals>.wrapper at 0x7f734db6c670>\n"
     ]
    }
   ],
   "source": [
    "# fun = always_return(5)(fun)\n",
    "print(always_return)\n",
    "print(always_return(5))\n",
    "print(always_return(5)(fun))"
   ]
  },
  {
   "cell_type": "code",
   "execution_count": 39,
   "id": "7310a425",
   "metadata": {},
   "outputs": [
    {
     "ename": "TypeError",
     "evalue": "wrapper() missing 1 required positional argument: 'b'",
     "output_type": "error",
     "traceback": [
      "\u001b[0;31m---------------------------------------------------------------------------\u001b[0m",
      "\u001b[0;31mTypeError\u001b[0m                                 Traceback (most recent call last)",
      "\u001b[0;32m/tmp/ipykernel_304561/1979285139.py\u001b[0m in \u001b[0;36m<module>\u001b[0;34m\u001b[0m\n\u001b[1;32m      7\u001b[0m \u001b[0;34m\u001b[0m\u001b[0m\n\u001b[1;32m      8\u001b[0m \u001b[0;34m@\u001b[0m\u001b[0malways_return\u001b[0m\u001b[0;34m(\u001b[0m\u001b[0;36m5\u001b[0m\u001b[0;34m)\u001b[0m\u001b[0;34m\u001b[0m\u001b[0;34m\u001b[0m\u001b[0m\n\u001b[0;32m----> 9\u001b[0;31m \u001b[0;32mdef\u001b[0m \u001b[0mfun\u001b[0m\u001b[0;34m(\u001b[0m\u001b[0ma\u001b[0m\u001b[0;34m,\u001b[0m \u001b[0mb\u001b[0m\u001b[0;34m)\u001b[0m\u001b[0;34m:\u001b[0m\u001b[0;34m\u001b[0m\u001b[0;34m\u001b[0m\u001b[0m\n\u001b[0m\u001b[1;32m     10\u001b[0m     \u001b[0;32mreturn\u001b[0m \u001b[0ma\u001b[0m \u001b[0;34m+\u001b[0m \u001b[0mb\u001b[0m\u001b[0;34m\u001b[0m\u001b[0;34m\u001b[0m\u001b[0m\n\u001b[1;32m     11\u001b[0m \u001b[0;34m\u001b[0m\u001b[0m\n",
      "\u001b[0;31mTypeError\u001b[0m: wrapper() missing 1 required positional argument: 'b'"
     ]
    }
   ],
   "source": [
    "def always_return(res):\n",
    "#     def decorator(fn):\n",
    "        def wrapper(a, b):\n",
    "            return res\n",
    "        return wrapper\n",
    "#     return decorator\n",
    "\n",
    "@always_return(5)\n",
    "def fun(a, b):\n",
    "    return a + b\n",
    "\n",
    "print(fun(2, 1))\n",
    "print(fun(10, 20))"
   ]
  },
  {
   "cell_type": "code",
   "execution_count": 40,
   "id": "3d3e8d92",
   "metadata": {},
   "outputs": [
    {
     "data": {
      "text/plain": [
       "5"
      ]
     },
     "execution_count": 40,
     "metadata": {},
     "output_type": "execute_result"
    }
   ],
   "source": [
    "# @always_return(5)\n",
    "def fun(a, b):\n",
    "    return a + b\n",
    "\n",
    "# fun = always_return(5)(fun)\n",
    "\n",
    "fun = always_return(5)\n",
    "fun(2, 1)"
   ]
  },
  {
   "cell_type": "code",
   "execution_count": null,
   "id": "00ec1ab3",
   "metadata": {},
   "outputs": [],
   "source": []
  }
 ],
 "metadata": {
  "kernelspec": {
   "display_name": "Python 3 (ipykernel)",
   "language": "python",
   "name": "python3"
  },
  "language_info": {
   "codemirror_mode": {
    "name": "ipython",
    "version": 3
   },
   "file_extension": ".py",
   "mimetype": "text/x-python",
   "name": "python",
   "nbconvert_exporter": "python",
   "pygments_lexer": "ipython3",
   "version": "3.8.10"
  }
 },
 "nbformat": 4,
 "nbformat_minor": 5
}
