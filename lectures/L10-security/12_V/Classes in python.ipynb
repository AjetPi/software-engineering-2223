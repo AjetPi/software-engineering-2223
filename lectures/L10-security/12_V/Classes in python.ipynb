{
 "cells": [
  {
   "cell_type": "code",
   "execution_count": 12,
   "id": "f722cf3a",
   "metadata": {},
   "outputs": [],
   "source": [
    "class Point:\n",
    "    def __init__(self):\n",
    "        self.x = 0\n",
    "        self.y = 0\n",
    "        \n",
    "class Point3d(Point):\n",
    "    def __init__(self):\n",
    "        super().__init__()\n",
    "        self.z = 0\n",
    "        \n",
    "    def distance(self, p2):\n",
    "        pass\n",
    "    \n",
    "    @staticmethod\n",
    "    def method(p3):\n",
    "        pass"
   ]
  },
  {
   "cell_type": "code",
   "execution_count": null,
   "id": "18d63bb9",
   "metadata": {},
   "outputs": [],
   "source": [
    "p = Point()\n",
    "p.method\n",
    "\n",
    "Point.method(...)"
   ]
  },
  {
   "cell_type": "code",
   "execution_count": 13,
   "id": "6d199a81",
   "metadata": {},
   "outputs": [
    {
     "data": {
      "text/plain": [
       "<function __main__.Point3d.distance(self, p2)>"
      ]
     },
     "execution_count": 13,
     "metadata": {},
     "output_type": "execute_result"
    }
   ],
   "source": [
    "Point3d.distance"
   ]
  },
  {
   "cell_type": "code",
   "execution_count": 2,
   "id": "5504b967",
   "metadata": {},
   "outputs": [],
   "source": [
    "p = Point()"
   ]
  },
  {
   "cell_type": "code",
   "execution_count": 6,
   "id": "01a0b787",
   "metadata": {},
   "outputs": [],
   "source": [
    "p.y = 10"
   ]
  },
  {
   "cell_type": "code",
   "execution_count": 7,
   "id": "99869cd1",
   "metadata": {},
   "outputs": [
    {
     "data": {
      "text/plain": [
       "10"
      ]
     },
     "execution_count": 7,
     "metadata": {},
     "output_type": "execute_result"
    }
   ],
   "source": [
    "p.y"
   ]
  },
  {
   "cell_type": "code",
   "execution_count": 8,
   "id": "4a0cd096",
   "metadata": {},
   "outputs": [
    {
     "ename": "AttributeError",
     "evalue": "'Point' object has no attribute 'z'",
     "output_type": "error",
     "traceback": [
      "\u001b[0;31m---------------------------------------------------------------------------\u001b[0m",
      "\u001b[0;31mAttributeError\u001b[0m                            Traceback (most recent call last)",
      "\u001b[0;32m/tmp/ipykernel_140515/3919658368.py\u001b[0m in \u001b[0;36m<module>\u001b[0;34m\u001b[0m\n\u001b[0;32m----> 1\u001b[0;31m \u001b[0mp\u001b[0m\u001b[0;34m.\u001b[0m\u001b[0mz\u001b[0m\u001b[0;34m\u001b[0m\u001b[0;34m\u001b[0m\u001b[0m\n\u001b[0m",
      "\u001b[0;31mAttributeError\u001b[0m: 'Point' object has no attribute 'z'"
     ]
    }
   ],
   "source": [
    "p.z"
   ]
  },
  {
   "cell_type": "code",
   "execution_count": 9,
   "id": "7a167b8e",
   "metadata": {},
   "outputs": [],
   "source": [
    "p3 = Point3d()"
   ]
  },
  {
   "cell_type": "code",
   "execution_count": 10,
   "id": "bd7dc49a",
   "metadata": {},
   "outputs": [
    {
     "data": {
      "text/plain": [
       "0"
      ]
     },
     "execution_count": 10,
     "metadata": {},
     "output_type": "execute_result"
    }
   ],
   "source": [
    "p3.z"
   ]
  },
  {
   "cell_type": "code",
   "execution_count": null,
   "id": "6aa79741",
   "metadata": {},
   "outputs": [],
   "source": []
  }
 ],
 "metadata": {
  "kernelspec": {
   "display_name": "Python 3 (ipykernel)",
   "language": "python",
   "name": "python3"
  },
  "language_info": {
   "codemirror_mode": {
    "name": "ipython",
    "version": 3
   },
   "file_extension": ".py",
   "mimetype": "text/x-python",
   "name": "python",
   "nbconvert_exporter": "python",
   "pygments_lexer": "ipython3",
   "version": "3.8.10"
  }
 },
 "nbformat": 4,
 "nbformat_minor": 5
}
