{
 "cells": [
  {
   "cell_type": "code",
   "execution_count": 1,
   "id": "2e50e7da",
   "metadata": {},
   "outputs": [],
   "source": [
    "def strcmp(s1: str, s2: str) -> int:\n",
    "    if len(s1) != len(s2):\n",
    "        return len(s1) - len(s2)\n",
    "    for i in range(len(s1)):\n",
    "        if s1[i] != s2[i]:\n",
    "            return ord(s1[i]) - ord(s2[i])\n",
    "    return 0"
   ]
  },
  {
   "cell_type": "code",
   "execution_count": null,
   "id": "ccf7da47",
   "metadata": {},
   "outputs": [],
   "source": [
    "strcmp(\"password\", \"pa313123\")"
   ]
  }
 ],
 "metadata": {
  "kernelspec": {
   "display_name": "Python 3 (ipykernel)",
   "language": "python",
   "name": "python3"
  },
  "language_info": {
   "codemirror_mode": {
    "name": "ipython",
    "version": 3
   },
   "file_extension": ".py",
   "mimetype": "text/x-python",
   "name": "python",
   "nbconvert_exporter": "python",
   "pygments_lexer": "ipython3",
   "version": "3.8.10"
  }
 },
 "nbformat": 4,
 "nbformat_minor": 5
}
